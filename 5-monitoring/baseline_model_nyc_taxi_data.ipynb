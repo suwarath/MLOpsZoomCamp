{
 "cells": [
  {
   "cell_type": "code",
   "execution_count": 89,
   "id": "7320039b",
   "metadata": {},
   "outputs": [],
   "source": [
    "import requests\n",
    "import datetime\n",
    "import pandas as pd\n",
    "from calendar import Calendar\n",
    "\n",
    "from evidently import ColumnMapping\n",
    "from evidently.report import Report\n",
    "from evidently.metrics import ColumnQuantileMetric, DatasetMissingValuesMetric\n",
    "\n",
    "from joblib import load, dump\n",
    "from tqdm import tqdm\n",
    "\n",
    "from sklearn.linear_model import LinearRegression\n",
    "from sklearn.metrics import mean_absolute_error, mean_absolute_percentage_error"
   ]
  },
  {
   "cell_type": "markdown",
   "id": "ce2a9d06",
   "metadata": {},
   "source": [
    "# Download Data"
   ]
  },
  {
   "cell_type": "code",
   "execution_count": 90,
   "id": "9271346e",
   "metadata": {},
   "outputs": [],
   "source": [
    "year = 2024\n",
    "month = 3"
   ]
  },
  {
   "cell_type": "code",
   "execution_count": 91,
   "id": "ebcd8eb5",
   "metadata": {},
   "outputs": [
    {
     "name": "stdout",
     "output_type": "stream",
     "text": [
      "Download files:\n",
      "https://d37ci6vzurychx.cloudfront.net/trip-data/green_tripdata_2024-03.parquet\n"
     ]
    }
   ],
   "source": [
    "files = [(f'green_tripdata_{year}-{format(month,\"02d\")}.parquet', './data')]\n",
    "\n",
    "print(\"Download files:\")\n",
    "for file, path in files:\n",
    "    url=f\"https://d37ci6vzurychx.cloudfront.net/trip-data/{file}\"\n",
    "    print(url)\n",
    "    df = pd.read_parquet(url)\n",
    "    save_path=f\"{path}/{file}\"\n",
    "    df.to_parquet(save_path)"
   ]
  },
  {
   "cell_type": "code",
   "execution_count": 92,
   "id": "6735ae38",
   "metadata": {},
   "outputs": [],
   "source": [
    "mar_data = pd.read_parquet('./data/green_tripdata_2024-03.parquet')"
   ]
  },
  {
   "cell_type": "code",
   "execution_count": 93,
   "id": "29779686",
   "metadata": {},
   "outputs": [
    {
     "data": {
      "text/plain": [
       "(57457, 20)"
      ]
     },
     "execution_count": 93,
     "metadata": {},
     "output_type": "execute_result"
    }
   ],
   "source": [
    "mar_data.shape"
   ]
  },
  {
   "cell_type": "markdown",
   "id": "a98bdc9f",
   "metadata": {},
   "source": [
    "# Create Metric"
   ]
  },
  {
   "cell_type": "code",
   "execution_count": 94,
   "id": "e44d03e6",
   "metadata": {},
   "outputs": [],
   "source": [
    "column_mapping = ColumnMapping(\n",
    "    target=None,\n",
    "    prediction=None,\n",
    "    numerical_features=[\"fare_amount\"],\n",
    "    categorical_features=None\n",
    ")"
   ]
  },
  {
   "cell_type": "code",
   "execution_count": 100,
   "id": "c669a4bf",
   "metadata": {},
   "outputs": [],
   "source": [
    "report = Report(metrics=[\n",
    "    ColumnQuantileMetric(column_name= \"fare_amount\", quantile= 0.5),\n",
    "    DatasetMissingValuesMetric()\n",
    "]\n",
    ")"
   ]
  },
  {
   "cell_type": "code",
   "execution_count": 105,
   "id": "62f3d8f2",
   "metadata": {},
   "outputs": [],
   "source": [
    "result = pd.DataFrame(columns = ['date', 'metric','column', 'value'])"
   ]
  },
  {
   "cell_type": "code",
   "execution_count": 106,
   "id": "d66f5a75",
   "metadata": {},
   "outputs": [],
   "source": [
    "dates = [i for i in Calendar().itermonthdates(2024,3) if i.month == month]\n",
    "for date in dates:\n",
    "    curr_data = mar_data[mar_data['lpep_pickup_datetime'].dt.date == date]\n",
    "    report.run(reference_data=None, current_data=curr_data)\n",
    "    r = report.as_dict()\n",
    "    new_row1 = {\"date\": date, \"metric\": r['metrics'][0]['metric'], \"column\": \"fare_amount\", 'value': r['metrics'][0]['result']['current']['value']}\n",
    "    result.loc[len(result)] = new_row1\n",
    "    new_row2 = {\"date\": date, \"metric\": r['metrics'][1]['metric'], \"column\": \"all\", 'value': r['metrics'][1]['result']['current']['number_of_missing_values']}\n",
    "    result.loc[len(result)] = new_row2"
   ]
  },
  {
   "cell_type": "code",
   "execution_count": 108,
   "id": "c0694520",
   "metadata": {},
   "outputs": [
    {
     "data": {
      "text/html": [
       "<div>\n",
       "<style scoped>\n",
       "    .dataframe tbody tr th:only-of-type {\n",
       "        vertical-align: middle;\n",
       "    }\n",
       "\n",
       "    .dataframe tbody tr th {\n",
       "        vertical-align: top;\n",
       "    }\n",
       "\n",
       "    .dataframe thead th {\n",
       "        text-align: right;\n",
       "    }\n",
       "</style>\n",
       "<table border=\"1\" class=\"dataframe\">\n",
       "  <thead>\n",
       "    <tr style=\"text-align: right;\">\n",
       "      <th></th>\n",
       "      <th>date</th>\n",
       "      <th>metric</th>\n",
       "      <th>column</th>\n",
       "      <th>value</th>\n",
       "    </tr>\n",
       "  </thead>\n",
       "  <tbody>\n",
       "    <tr>\n",
       "      <th>0</th>\n",
       "      <td>2024-03-01</td>\n",
       "      <td>ColumnQuantileMetric</td>\n",
       "      <td>fare_amount</td>\n",
       "      <td>13.5</td>\n",
       "    </tr>\n",
       "    <tr>\n",
       "      <th>1</th>\n",
       "      <td>2024-03-01</td>\n",
       "      <td>DatasetMissingValuesMetric</td>\n",
       "      <td>all</td>\n",
       "      <td>2443.0</td>\n",
       "    </tr>\n",
       "    <tr>\n",
       "      <th>2</th>\n",
       "      <td>2024-03-02</td>\n",
       "      <td>ColumnQuantileMetric</td>\n",
       "      <td>fare_amount</td>\n",
       "      <td>13.5</td>\n",
       "    </tr>\n",
       "    <tr>\n",
       "      <th>3</th>\n",
       "      <td>2024-03-02</td>\n",
       "      <td>DatasetMissingValuesMetric</td>\n",
       "      <td>all</td>\n",
       "      <td>2178.0</td>\n",
       "    </tr>\n",
       "    <tr>\n",
       "      <th>4</th>\n",
       "      <td>2024-03-03</td>\n",
       "      <td>ColumnQuantileMetric</td>\n",
       "      <td>fare_amount</td>\n",
       "      <td>14.2</td>\n",
       "    </tr>\n",
       "    <tr>\n",
       "      <th>...</th>\n",
       "      <td>...</td>\n",
       "      <td>...</td>\n",
       "      <td>...</td>\n",
       "      <td>...</td>\n",
       "    </tr>\n",
       "    <tr>\n",
       "      <th>57</th>\n",
       "      <td>2024-03-29</td>\n",
       "      <td>DatasetMissingValuesMetric</td>\n",
       "      <td>all</td>\n",
       "      <td>2178.0</td>\n",
       "    </tr>\n",
       "    <tr>\n",
       "      <th>58</th>\n",
       "      <td>2024-03-30</td>\n",
       "      <td>ColumnQuantileMetric</td>\n",
       "      <td>fare_amount</td>\n",
       "      <td>14.2</td>\n",
       "    </tr>\n",
       "    <tr>\n",
       "      <th>59</th>\n",
       "      <td>2024-03-30</td>\n",
       "      <td>DatasetMissingValuesMetric</td>\n",
       "      <td>all</td>\n",
       "      <td>1771.0</td>\n",
       "    </tr>\n",
       "    <tr>\n",
       "      <th>60</th>\n",
       "      <td>2024-03-31</td>\n",
       "      <td>ColumnQuantileMetric</td>\n",
       "      <td>fare_amount</td>\n",
       "      <td>13.5</td>\n",
       "    </tr>\n",
       "    <tr>\n",
       "      <th>61</th>\n",
       "      <td>2024-03-31</td>\n",
       "      <td>DatasetMissingValuesMetric</td>\n",
       "      <td>all</td>\n",
       "      <td>1775.0</td>\n",
       "    </tr>\n",
       "  </tbody>\n",
       "</table>\n",
       "<p>62 rows × 4 columns</p>\n",
       "</div>"
      ],
      "text/plain": [
       "          date                      metric       column   value\n",
       "0   2024-03-01        ColumnQuantileMetric  fare_amount    13.5\n",
       "1   2024-03-01  DatasetMissingValuesMetric          all  2443.0\n",
       "2   2024-03-02        ColumnQuantileMetric  fare_amount    13.5\n",
       "3   2024-03-02  DatasetMissingValuesMetric          all  2178.0\n",
       "4   2024-03-03        ColumnQuantileMetric  fare_amount    14.2\n",
       "..         ...                         ...          ...     ...\n",
       "57  2024-03-29  DatasetMissingValuesMetric          all  2178.0\n",
       "58  2024-03-30        ColumnQuantileMetric  fare_amount    14.2\n",
       "59  2024-03-30  DatasetMissingValuesMetric          all  1771.0\n",
       "60  2024-03-31        ColumnQuantileMetric  fare_amount    13.5\n",
       "61  2024-03-31  DatasetMissingValuesMetric          all  1775.0\n",
       "\n",
       "[62 rows x 4 columns]"
      ]
     },
     "execution_count": 108,
     "metadata": {},
     "output_type": "execute_result"
    }
   ],
   "source": [
    "result"
   ]
  },
  {
   "cell_type": "code",
   "execution_count": 109,
   "id": "7fd31cb3",
   "metadata": {},
   "outputs": [
    {
     "data": {
      "text/plain": [
       "np.float64(14.2)"
      ]
     },
     "execution_count": 109,
     "metadata": {},
     "output_type": "execute_result"
    }
   ],
   "source": [
    "result[result['metric'] == 'ColumnQuantileMetric']['value'].max()"
   ]
  },
  {
   "cell_type": "markdown",
   "id": "ea461fb8",
   "metadata": {},
   "source": [
    "# Create Dashboard"
   ]
  },
  {
   "cell_type": "code",
   "execution_count": 138,
   "id": "3c0bb68e",
   "metadata": {},
   "outputs": [],
   "source": [
    "from evidently.metric_preset import DataDriftPreset, DataQualityPreset\n",
    "\n",
    "from evidently.ui.workspace import Workspace\n",
    "from evidently.ui.dashboards import DashboardPanelCounter, DashboardPanelPlot, CounterAgg, PanelValue, PlotType, ReportFilter\n",
    "from evidently.renderers.html_widgets import WidgetSize"
   ]
  },
  {
   "cell_type": "code",
   "execution_count": 139,
   "id": "b1f18568",
   "metadata": {},
   "outputs": [],
   "source": [
    "ws = Workspace(\"workspace\")"
   ]
  },
  {
   "cell_type": "code",
   "execution_count": 140,
   "id": "e183dfe2",
   "metadata": {},
   "outputs": [
    {
     "data": {
      "text/plain": [
       "Project(id=UUID('8f773c5d-e663-4d4a-acb2-c59e7d507d58'), name='NYC Taxi Data Quality Project', description=None, dashboard=DashboardConfig(name='NYC Taxi Data Quality Project', panels=[], tabs=[], tab_id_to_panel_ids={}), team_id=None, date_from=None, date_to=None, created_at=datetime.datetime(2024, 6, 23, 7, 45, 28, 792786))"
      ]
     },
     "execution_count": 140,
     "metadata": {},
     "output_type": "execute_result"
    }
   ],
   "source": [
    "project = ws.create_project(\"NYC Taxi Data Quality Project\")\n",
    "# project.description = \"My project descriotion\"\n",
    "project.save()"
   ]
  },
  {
   "cell_type": "code",
   "execution_count": 146,
   "id": "94f33cc7",
   "metadata": {},
   "outputs": [],
   "source": [
    "dates = [i for i in Calendar().itermonthdates(2024,3) if i.month == month]\n",
    "for date in dates:\n",
    "    curr_data = mar_data[mar_data['lpep_pickup_datetime'].dt.date == date]\n",
    "    report = Report(metrics=[\n",
    "    ColumnQuantileMetric(column_name= \"fare_amount\", quantile= 0.5),\n",
    "    DatasetMissingValuesMetric()],\n",
    "                    timestamp = datetime.datetime.combine(date, datetime.datetime.min.time()))\n",
    "    report.run(reference_data=None, current_data=curr_data)\n",
    "    ws.add_report(project.id, report)"
   ]
  },
  {
   "cell_type": "code",
   "execution_count": 147,
   "id": "b8fbb6c1",
   "metadata": {},
   "outputs": [],
   "source": [
    "project.dashboard.add_panel(\n",
    "    DashboardPanelCounter(\n",
    "        filter=ReportFilter(metadata_values={}, tag_values=[]),\n",
    "        agg=CounterAgg.NONE,\n",
    "        title=\"NYC taxi data dashboard\"\n",
    "    )\n",
    ")\n",
    "\n",
    "project.dashboard.add_panel(\n",
    "    DashboardPanelPlot(\n",
    "        filter=ReportFilter(metadata_values={}, tag_values=[]),\n",
    "        title=\"Number of Missing Values\",\n",
    "        values=[\n",
    "            PanelValue(\n",
    "                metric_id=\"DatasetSummaryMetric\",\n",
    "                field_path=\"current.number_of_missing_values\",\n",
    "                legend=\"count\"\n",
    "            ),\n",
    "        ],\n",
    "        plot_type=PlotType.LINE,\n",
    "        size=WidgetSize.HALF,\n",
    "    ),\n",
    ")"
   ]
  },
  {
   "cell_type": "code",
   "execution_count": 148,
   "id": "d858e64c",
   "metadata": {},
   "outputs": [
    {
     "data": {
      "text/plain": [
       "Project(id=UUID('8f773c5d-e663-4d4a-acb2-c59e7d507d58'), name='NYC Taxi Data Quality Project', description=None, dashboard=DashboardConfig(name='NYC Taxi Data Quality Project', panels=[DashboardPanelCounter(type='evidently.ui.dashboards.reports.DashboardPanelCounter', id=UUID('fa6fbcb2-b25f-4303-b267-445c3c7be041'), title='NYC taxi data dashboard', filter=ReportFilter(metadata_values={}, tag_values=[], include_test_suites=False), size=<WidgetSize.FULL: 2>, agg=<CounterAgg.NONE: 'none'>, value=None, text=None), DashboardPanelPlot(type='evidently.ui.dashboards.reports.DashboardPanelPlot', id=UUID('dcadf5a2-5c86-410a-8312-32658f85b300'), title='Number of Missing Values', filter=ReportFilter(metadata_values={}, tag_values=[], include_test_suites=False), size=<WidgetSize.HALF: 1>, values=[PanelValue(field_path='current.number_of_missing_values', metric_id='DatasetSummaryMetric', metric_fingerprint=None, metric_args={}, legend='count')], plot_type=<PlotType.LINE: 'line'>)], tabs=[], tab_id_to_panel_ids={}), team_id=None, date_from=None, date_to=None, created_at=datetime.datetime(2024, 6, 23, 7, 45, 28, 792786))"
      ]
     },
     "execution_count": 148,
     "metadata": {},
     "output_type": "execute_result"
    }
   ],
   "source": [
    "project.save()"
   ]
  }
 ],
 "metadata": {
  "kernelspec": {
   "display_name": "Python 3 (ipykernel)",
   "language": "python",
   "name": "python3"
  },
  "language_info": {
   "codemirror_mode": {
    "name": "ipython",
    "version": 3
   },
   "file_extension": ".py",
   "mimetype": "text/x-python",
   "name": "python",
   "nbconvert_exporter": "python",
   "pygments_lexer": "ipython3",
   "version": "3.10.12"
  }
 },
 "nbformat": 4,
 "nbformat_minor": 5
}
